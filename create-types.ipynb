{
 "cells": [
  {
   "cell_type": "markdown",
   "metadata": {},
   "source": [
    "# Μετατρέποντας στη μορφή N-Triples\n",
    "\n",
    "Ολοκληρώνουμε την κατασκευή του ωρολογίου προγράμματος, μετατρέποντας τις τριάδες στο πρότυπο μορφότυπο [N-Triples](http://www.w3.org/TR/n-triples/).\n",
    "\n",
    "## 1. Φορτώστε τις τριάδες\n",
    "\n",
    "Βάλτε σε μια λίστα τις τριάδες από το τελικό csv του προηγούμενου εργαστηρίου. Αυτές θα πρέπει:\n",
    "\n",
    "* Να χρησιμοποιούν URIs με νόμιμους χαρακτήρες\n",
    "* Να έχουν σημειωμένους τους ανώνυμους κόμβους με το πρόθεμα `_:bnode`\n",
    "* Όλα τα URIs να έχουν τη μορφή http URIs\n",
    "\n",
    "    * `http://dilab77.ionio.gr/swp/you/vocab#` για τα κατηγορήματα\n",
    "    * `http://dilab77.ionio.gr/swp/you/resource/` για τα υπόλοιπα URIs\n",
    "    \n",
    "    όπου you πρέπει να είναι το username που έχετε στο JupyterHub.\n",
    "   "
   ]
  },
  {
   "cell_type": "code",
   "execution_count": 20,
   "metadata": {
    "collapsed": false
   },
   "outputs": [
    {
     "name": "stdout",
     "output_type": "stream",
     "text": [
      "[['_:0', 'http://dilab77.ionio.gr/swp/kalogerop/vocab#year', '#:2'], ['_:0', 'http://dilab77.ionio.gr/swp/kalogerop/vocab#dialexh', '#:2017/02/28'], ['_:1', 'http://dilab77.ionio.gr/swp/kalogerop/vocab#Professor', 'http://dilab77.ionio.gr/swp/kalogerop/resource/patelh'], ['_:1', 'http://dilab77.ionio.gr/swp/kalogerop/vocab#course', 'http://dilab77.ionio.gr/swp/kalogerop/resource/epixhrein'], ['_:1', 'http://dilab77.ionio.gr/swp/kalogerop/vocab#class', 'http://dilab77.ionio.gr/swp/kalogerop/resource/aith1'], ['_:1', 'http://dilab77.ionio.gr/swp/kalogerop/vocab#year', '#:2'], ['_:1', 'http://dilab77.ionio.gr/swp/kalogerop/vocab#dialexh', '#:2017/02/29'], ['_:2', 'http://dilab77.ionio.gr/swp/kalogerop/vocab#Professor', 'http://dilab77.ionio.gr/swp/kalogerop/resource/komianos'], ['_:2', 'http://dilab77.ionio.gr/swp/kalogerop/vocab#course', 'http://dilab77.ionio.gr/swp/kalogerop/resource/psixagwgiko'], ['_:2', 'http://dilab77.ionio.gr/swp/kalogerop/vocab#class', 'http://dilab77.ionio.gr/swp/kalogerop/resource/aith1'], ['_:2', 'http://dilab77.ionio.gr/swp/kalogerop/vocab#year', '#:2'], ['_:2', 'http://dilab77.ionio.gr/swp/kalogerop/vocab#dialexh', '#:2017/03/06'], ['_:3', 'http://dilab77.ionio.gr/swp/kalogerop/vocab#Professor', 'http://dilab77.ionio.gr/swp/kalogerop/resource/blamos'], ['_:3', 'http://dilab77.ionio.gr/swp/kalogerop/vocab#course', 'http://dilab77.ionio.gr/swp/kalogerop/resource/tpe'], ['_:3', 'http://dilab77.ionio.gr/swp/kalogerop/vocab#class', 'http://dilab77.ionio.gr/swp/kalogerop/resource/aith2'], ['_:3', 'http://dilab77.ionio.gr/swp/kalogerop/vocab#year', '#:2'], ['_:3', 'http://dilab77.ionio.gr/swp/kalogerop/vocab#dialexh', '#:2017/03/02'], ['_:4', 'http://dilab77.ionio.gr/swp/kalogerop/vocab#Professor', 'http://dilab77.ionio.gr/swp/kalogerop/resource/tsoxou'], ['_:4', 'http://dilab77.ionio.gr/swp/kalogerop/vocab#course', 'http://dilab77.ionio.gr/swp/kalogerop/resource/security'], ['_:4', 'http://dilab77.ionio.gr/swp/kalogerop/vocab#class', 'http://dilab77.ionio.gr/swp/kalogerop/resource/aith3'], ['_:4', 'http://dilab77.ionio.gr/swp/kalogerop/vocab#year', '#:2'], ['_:4', 'http://dilab77.ionio.gr/swp/kalogerop/vocab#dialexh', '#:2017/03/06']]\n"
     ]
    }
   ],
   "source": [
    "import csv\n",
    "\n",
    "eavlist = []\n",
    "\n",
    "with open('URIs.csv','r',newline='') as ifp:\n",
    "    ir = csv.reader(ifp)\n",
    "    headers = next(ir)\n",
    "    \n",
    "    for row in ir:\n",
    "        eavlist.append(row)  \n",
    "\n",
    "print(eavlist)"
   ]
  },
  {
   "cell_type": "markdown",
   "metadata": {},
   "source": [
    "## 2. Καθορίστε τους τύπους δεδομένων\n",
    "\n",
    "Οι απλές τιμές (literals) πρέπει να μετατραπούν σε **έγκυρη σύνταξη N-Triples**. Μέσω της Python\n",
    "\n",
    "* Μετατρέψτε τις ημέρες και το εξάμηνο σε απλά strings\n",
    "* Μετατρέψτε τις ώρες στο τύπο `xsd:time`\n",
    "* Όλα τα URIs πρέπει να είναι μέσα σε `< >`\n",
    "\n",
    "Ανατρέξτε στις διαφάνειες της τρέχουσας ενότητας για τη σωστή σύνταξη των προηγούμενων!\n",
    "\n",
    "**Σημείωση:** Ο τύπος `xsd:time` **πρέπει** να έχει τη μορφή `06:35:42` (ώρα, λεπτά, δευτερόλεπτα)."
   ]
  },
  {
   "cell_type": "code",
   "execution_count": 68,
   "metadata": {
    "collapsed": false
   },
   "outputs": [
    {
     "name": "stdout",
     "output_type": "stream",
     "text": [
      "('_:0', '<http://dilab77.ionio.gr/swp/kalogerop/vocab#year>', '\"2\"')\n",
      "('_:0', '<http://dilab77.ionio.gr/swp/kalogerop/vocab#dialexh>', '\"2017-02-28\"')\n",
      "('_:1', '<http://dilab77.ionio.gr/swp/kalogerop/vocab#Professor>', '<http://dilab77.ionio.gr/swp/kalogerop/resource/patelh>')\n",
      "('_:1', '<http://dilab77.ionio.gr/swp/kalogerop/vocab#course>', '<http://dilab77.ionio.gr/swp/kalogerop/resource/epixhrein>')\n",
      "('_:1', '<http://dilab77.ionio.gr/swp/kalogerop/vocab#class>', '<http://dilab77.ionio.gr/swp/kalogerop/resource/aith1>')\n",
      "('_:1', '<http://dilab77.ionio.gr/swp/kalogerop/vocab#year>', '\"2\"')\n",
      "('_:1', '<http://dilab77.ionio.gr/swp/kalogerop/vocab#dialexh>', '\"2017-02-29\"')\n",
      "('_:2', '<http://dilab77.ionio.gr/swp/kalogerop/vocab#Professor>', '<http://dilab77.ionio.gr/swp/kalogerop/resource/komianos>')\n",
      "('_:2', '<http://dilab77.ionio.gr/swp/kalogerop/vocab#course>', '<http://dilab77.ionio.gr/swp/kalogerop/resource/psixagwgiko>')\n",
      "('_:2', '<http://dilab77.ionio.gr/swp/kalogerop/vocab#class>', '<http://dilab77.ionio.gr/swp/kalogerop/resource/aith1>')\n",
      "('_:2', '<http://dilab77.ionio.gr/swp/kalogerop/vocab#year>', '\"2\"')\n",
      "('_:2', '<http://dilab77.ionio.gr/swp/kalogerop/vocab#dialexh>', '\"2017-03-06\"')\n",
      "('_:3', '<http://dilab77.ionio.gr/swp/kalogerop/vocab#Professor>', '<http://dilab77.ionio.gr/swp/kalogerop/resource/blamos>')\n",
      "('_:3', '<http://dilab77.ionio.gr/swp/kalogerop/vocab#course>', '<http://dilab77.ionio.gr/swp/kalogerop/resource/tpe>')\n",
      "('_:3', '<http://dilab77.ionio.gr/swp/kalogerop/vocab#class>', '<http://dilab77.ionio.gr/swp/kalogerop/resource/aith2>')\n",
      "('_:3', '<http://dilab77.ionio.gr/swp/kalogerop/vocab#year>', '\"2\"')\n",
      "('_:3', '<http://dilab77.ionio.gr/swp/kalogerop/vocab#dialexh>', '\"2017-03-02\"')\n",
      "('_:4', '<http://dilab77.ionio.gr/swp/kalogerop/vocab#Professor>', '<http://dilab77.ionio.gr/swp/kalogerop/resource/tsoxou>')\n",
      "('_:4', '<http://dilab77.ionio.gr/swp/kalogerop/vocab#course>', '<http://dilab77.ionio.gr/swp/kalogerop/resource/security>')\n",
      "('_:4', '<http://dilab77.ionio.gr/swp/kalogerop/vocab#class>', '<http://dilab77.ionio.gr/swp/kalogerop/resource/aith3>')\n",
      "('_:4', '<http://dilab77.ionio.gr/swp/kalogerop/vocab#year>', '\"2\"')\n",
      "('_:4', '<http://dilab77.ionio.gr/swp/kalogerop/vocab#dialexh>', '\"2017-03-06\"')\n"
     ]
    }
   ],
   "source": [
    "import re\n",
    "\n",
    "rexp = re.compile(\"/\")\n",
    "\n",
    "def q_f(m):\n",
    "    return '-'.format(ord(m.group(0)))\n",
    "\n",
    "def date(s):\n",
    "    return rexp.sub(q_f,s)\n",
    "\n",
    "visited = set()\n",
    "triples = []\n",
    "for e,a,v in eavlist:\n",
    "     \n",
    "    if a.startswith('http'):\n",
    "        a = '<'+a+'>' \n",
    "    if v.startswith('http') :\n",
    "         v = '<'+v+'>'\n",
    "    \n",
    "    if a == '<http://dilab77.ionio.gr/swp/kalogerop/vocab#year>':\n",
    "        v = '\"'+v[2:]+'\"'\n",
    "       \n",
    "    if a == '<http://dilab77.ionio.gr/swp/kalogerop/vocab#dialexh>':\n",
    "        v = date('\"'+v[2:]+'\"')\n",
    "    #visited.add(v)   \n",
    "    triples.append((e,a,v))\n",
    "    \n",
    "\n",
    "for i in triples:       \n",
    "    print(i)\n",
    "    \n"
   ]
  },
  {
   "cell_type": "markdown",
   "metadata": {},
   "source": [
    "## 3. Παραγωγή αρχείου N-triples\n",
    "\n",
    "Στο τελευταίο αυτό βήμα, αποθηκεύστε το περιεχόμενο των τριάδων σε αρχείο κειμένου σύμφωνα με το πρότυπο N-Triples. Το αρχείο σας θα πρέπει να έχει κατάληξη `.nt` .\n",
    "\n",
    "**Θυμηθείτε**: κάθε γραμμή ενός αρχείου N-Triples περιέχει **ακριβώς μία** τριάδα, με τα μέρη των τριάδων χωρισμένα με κενό (space). Η γραμμή τελειώνει με την **τελεία**."
   ]
  },
  {
   "cell_type": "markdown",
   "metadata": {},
   "source": [
    "#### Υποδειξη: μορφοποίηση strings\n",
    "\n",
    "Μια απλή μορφοποίηση ενός string μπορεί να γίνει ως εξής\n",
    "\n",
    "```python\n",
    "a = 1\n",
    "b = 2\n",
    "print('{}+{}={}'.format(a,b,a+b))\n",
    "```\n",
    "\n",
    "Χρησιμοποιήστε τη `format()` όπως στο παράδειγμα για να φτιάξετε κάθε γραμμή του αρχείου N-Triples. Όταν φτάσετε στο επιθυμητό αποτέλεσμα, αντικαταστήστε την `print()` με τη μέθοδο `write()` του αρχείου εξόδου. Προσοχή: η `write()` δεν προσθέτει αυτόματα χαρακτήρα νέας γραμμής `\\n`, πρέπει να τον βάλετε εσείς!"
   ]
  },
  {
   "cell_type": "code",
   "execution_count": 81,
   "metadata": {
    "collapsed": false
   },
   "outputs": [
    {
     "name": "stdout",
     "output_type": "stream",
     "text": [
      "_:0 <http://www.w3.org/1999/02/22-rdf-syntax-ns#type> <http://dilab77.ionio.gr/swp/kalogerop/vocab#Year>\n",
      "_:0 <http://www.w3.org/1999/02/22-rdf-syntax-ns#type> <http://dilab77.ionio.gr/swp/kalogerop/vocab#Dialexh>\n",
      "<http://dilab77.ionio.gr/swp/kalogerop/resource/patelh> <http://www.w3.org/1999/02/22-rdf-syntax-ns#type> <http://dilab77.ionio.gr/swp/kalogerop/vocab#Professor> .\n",
      "<http://dilab77.ionio.gr/swp/kalogerop/resource/epixhrein> <http://www.w3.org/1999/02/22-rdf-syntax-ns#type> <http://dilab77.ionio.gr/swp/kalogerop/vocab#Course> .\n",
      "<http://dilab77.ionio.gr/swp/kalogerop/resource/aith1> <http://www.w3.org/1999/02/22-rdf-syntax-ns#type> <http://dilab77.ionio.gr/swp/kalogerop/vocab#Class> .\n",
      "_:1 <http://www.w3.org/1999/02/22-rdf-syntax-ns#type> <http://dilab77.ionio.gr/swp/kalogerop/vocab#Year>\n",
      "_:1 <http://www.w3.org/1999/02/22-rdf-syntax-ns#type> <http://dilab77.ionio.gr/swp/kalogerop/vocab#Dialexh>\n",
      "<http://dilab77.ionio.gr/swp/kalogerop/resource/komianos> <http://www.w3.org/1999/02/22-rdf-syntax-ns#type> <http://dilab77.ionio.gr/swp/kalogerop/vocab#Professor> .\n",
      "<http://dilab77.ionio.gr/swp/kalogerop/resource/psixagwgiko> <http://www.w3.org/1999/02/22-rdf-syntax-ns#type> <http://dilab77.ionio.gr/swp/kalogerop/vocab#Course> .\n",
      "_:2 <http://www.w3.org/1999/02/22-rdf-syntax-ns#type> <http://dilab77.ionio.gr/swp/kalogerop/vocab#Year>\n",
      "_:2 <http://www.w3.org/1999/02/22-rdf-syntax-ns#type> <http://dilab77.ionio.gr/swp/kalogerop/vocab#Dialexh>\n",
      "<http://dilab77.ionio.gr/swp/kalogerop/resource/blamos> <http://www.w3.org/1999/02/22-rdf-syntax-ns#type> <http://dilab77.ionio.gr/swp/kalogerop/vocab#Professor> .\n",
      "<http://dilab77.ionio.gr/swp/kalogerop/resource/tpe> <http://www.w3.org/1999/02/22-rdf-syntax-ns#type> <http://dilab77.ionio.gr/swp/kalogerop/vocab#Course> .\n",
      "<http://dilab77.ionio.gr/swp/kalogerop/resource/aith2> <http://www.w3.org/1999/02/22-rdf-syntax-ns#type> <http://dilab77.ionio.gr/swp/kalogerop/vocab#Class> .\n",
      "_:3 <http://www.w3.org/1999/02/22-rdf-syntax-ns#type> <http://dilab77.ionio.gr/swp/kalogerop/vocab#Year>\n",
      "_:3 <http://www.w3.org/1999/02/22-rdf-syntax-ns#type> <http://dilab77.ionio.gr/swp/kalogerop/vocab#Dialexh>\n",
      "<http://dilab77.ionio.gr/swp/kalogerop/resource/tsoxou> <http://www.w3.org/1999/02/22-rdf-syntax-ns#type> <http://dilab77.ionio.gr/swp/kalogerop/vocab#Professor> .\n",
      "<http://dilab77.ionio.gr/swp/kalogerop/resource/security> <http://www.w3.org/1999/02/22-rdf-syntax-ns#type> <http://dilab77.ionio.gr/swp/kalogerop/vocab#Course> .\n",
      "<http://dilab77.ionio.gr/swp/kalogerop/resource/aith3> <http://www.w3.org/1999/02/22-rdf-syntax-ns#type> <http://dilab77.ionio.gr/swp/kalogerop/vocab#Class> .\n",
      "_:4 <http://www.w3.org/1999/02/22-rdf-syntax-ns#type> <http://dilab77.ionio.gr/swp/kalogerop/vocab#Year>\n",
      "_:4 <http://www.w3.org/1999/02/22-rdf-syntax-ns#type> <http://dilab77.ionio.gr/swp/kalogerop/vocab#Dialexh>\n"
     ]
    }
   ],
   "source": [
    "visited = set()\n",
    "with open('myN-triple.nt','w') as ofp:\n",
    "    for e,a,v in triples:\n",
    "        r='<http://www.w3.org/1999/02/22-rdf-syntax-ns#type>'\n",
    "        \n",
    "        if e not in visited and a.endswith('year>'):\n",
    "            visited.add(e)\n",
    "            print(e,r,'<http://dilab77.ionio.gr/swp/kalogerop/vocab#Year>')\n",
    "            print(e,r,'<http://dilab77.ionio.gr/swp/kalogerop/vocab#Dialexh>')\n",
    "\n",
    "            ofp.write('{} {} {} . \\n'.format(e,r,'<http://dilab77.ionio.gr/swp/kalogerop/vocab#Year>'))\n",
    "            ofp.write('{} {} {} . \\n'.format(e,r,'<http://dilab77.ionio.gr/swp/kalogerop/vocab#Dialexh>'))\n",
    "            \n",
    "        \n",
    "            \n",
    "        if a=='<http://dilab77.ionio.gr/swp/kalogerop/vocab#Professor>':\n",
    "\n",
    "            if v not in visited:\n",
    "                visited.add(v)\n",
    "           \n",
    "                print('{} {} {} .'.format(v,r,'<http://dilab77.ionio.gr/swp/kalogerop/vocab#Professor>'))\n",
    "                ofp.write('{} {} {} . \\n'.format(v,r,'<http://dilab77.ionio.gr/swp/kalogerop/vocab#Professor>'))  \n",
    "                \n",
    "        if a=='<http://dilab77.ionio.gr/swp/kalogerop/vocab#class>':\n",
    "\n",
    "             if v not in visited:\n",
    "                visited.add(v)\n",
    " \n",
    "                print('{} {} {} .'.format(v,r,'<http://dilab77.ionio.gr/swp/kalogerop/vocab#Class>'))\n",
    "                ofp.write('{} {} {} . \\n'.format(v,r,'<http://dilab77.ionio.gr/swp/kalogerop/vocab#Class>'))\n",
    "        if a=='<http://dilab77.ionio.gr/swp/kalogerop/vocab#course>':\n",
    "            if v not in visited:\n",
    "                visited.add(v)\n",
    "\n",
    "                print('{} {} {} .'.format(v,r,'<http://dilab77.ionio.gr/swp/kalogerop/vocab#Course>'))\n",
    "                ofp.write('{} {} {} . \\n'.format(v,r,'<http://dilab77.ionio.gr/swp/kalogerop/vocab#Course>'))\n",
    "          "
   ]
  },
  {
   "cell_type": "markdown",
   "metadata": {},
   "source": [
    "## 4. Είναι το αρχείο σας έγκυρο;\n",
    "\n",
    "Βεβαιωθείτε ότι το αρχείο σας έχει έγκυρη μορφή N-Triples. Αυτό θα το κάνετε μέσω του εργαλείου `riot`. Στο επόμενο κελί εισάγετε το εξής:\n",
    "\n",
    "`!riot --validate yourfile.nt`\n",
    "\n",
    "Περιμένετε μέχρι να ολοκληρωθεί η εκτέλεση (να μην φαίνεται `In [*]`). **Αν το αρχείο σας είναι ΟΚ, δεν θα δείτε τίποτα ως έξοδο!**"
   ]
  },
  {
   "cell_type": "code",
   "execution_count": 82,
   "metadata": {
    "collapsed": false
   },
   "outputs": [],
   "source": [
    "# δώστε την εντολή του παραδείγματος\n",
    "!riot --validate myN-triple.nt"
   ]
  },
 
 "metadata": {
  "kernelspec": {
   "display_name": "Python 3",
   "language": "python",
   "name": "python3"
  },
  "language_info": {
   "codemirror_mode": {
    "name": "ipython",
    "version": 3
   },
   "file_extension": ".py",
   "mimetype": "text/x-python",
   "name": "python",
   "nbconvert_exporter": "python",
   "pygments_lexer": "ipython3",
   "version": "3.4.4"
  }
 },
 "nbformat": 4,
 "nbformat_minor": 0
}
