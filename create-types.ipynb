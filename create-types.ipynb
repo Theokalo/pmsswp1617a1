{
 "cells": [
  {
   "cell_type": "markdown",
   "metadata": {},
   "source": [
    "# Notebook για την παραγωγή των δεδομένων N-Triples (1η εργασία).\n",
    "\n",
    "Χρησιμοποιήστε τον κώδικα από το [notebook του 5ου εργαστηρίου](https://github.com/mixstef/courses/blob/master/pms-swp/schedule4.ipynb) με τις κατάλληλες αλλαγές για να φτιάξετε το αρχείο `schedule-data.nt` της **1ης εργασίας**.\n",
    "\n",
    "Προσθέστε τον κώδικά σας στα επόμενα κελιά."
   ]
  },
  {
   "cell_type": "code",
   "execution_count": null,
   "metadata": {
    "collapsed": true
   },
   "outputs": [],
   "source": [import re

rexp = re.compile("/")

def q_f(m):
    return '-'.format(ord(m.group(0)))

def date(s):
    return rexp.sub(q_f,s)

visited = set()
triples = []
for e,a,v in eavlist:
     
    if a.startswith('http'):
        a = '<'+a+'>' 
    if v.startswith('http') :
         v = '<'+v+'>'
    
    if a == '<http://dilab77.ionio.gr/swp/kalogerop/vocab#year>':
        v = '"'+v[2:]+'"'
       
    if a == '<http://dilab77.ionio.gr/swp/kalogerop/vocab#dialexh>':
        v = date('"'+v[2:]+'"')
    #visited.add(v)   
    triples.append((e,a,v))
    

for i in triples:       
    print(i)]
  }
 ],
 "metadata": {
  "kernelspec": {
   "display_name": "Python 3",
   "language": "python",
   "name": "python3"
  },
  "language_info": {
   "codemirror_mode": {
    "name": "ipython",
    "version": 3
   },
   "file_extension": ".py",
   "mimetype": "text/x-python",
   "name": "python",
   "nbconvert_exporter": "python",
   "pygments_lexer": "ipython3",
   "version": "3.4.4"
  }
 },
 "nbformat": 4,
 "nbformat_minor": 0
}
