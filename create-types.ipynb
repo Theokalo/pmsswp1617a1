{
 "cells": [
  {
   "cell_type": "markdown",
   "metadata": {},
   "source": [
    "\n",
    "   "
   ]
  },
  {
   "cell_type": "code",
   "execution_count": 20,
   "metadata": {
    "collapsed": false
   },
   "outputs": [
    {
     "name": "stdout",
     "output_type": "stream",
     "text": [
      "[['_:0', 'http://dilab77.ionio.gr/swp/kalogerop/vocab#year', '#:2'], ['_:0', 'http://dilab77.ionio.gr/swp/kalogerop/vocab#dialexh', '#:2017/02/28'], ['_:1', 'http://dilab77.ionio.gr/swp/kalogerop/vocab#Professor', 'http://dilab77.ionio.gr/swp/kalogerop/resource/patelh'], ['_:1', 'http://dilab77.ionio.gr/swp/kalogerop/vocab#course', 'http://dilab77.ionio.gr/swp/kalogerop/resource/epixhrein'], ['_:1', 'http://dilab77.ionio.gr/swp/kalogerop/vocab#class', 'http://dilab77.ionio.gr/swp/kalogerop/resource/aith1'], ['_:1', 'http://dilab77.ionio.gr/swp/kalogerop/vocab#year', '#:2'], ['_:1', 'http://dilab77.ionio.gr/swp/kalogerop/vocab#dialexh', '#:2017/02/29'], ['_:2', 'http://dilab77.ionio.gr/swp/kalogerop/vocab#Professor', 'http://dilab77.ionio.gr/swp/kalogerop/resource/komianos'], ['_:2', 'http://dilab77.ionio.gr/swp/kalogerop/vocab#course', 'http://dilab77.ionio.gr/swp/kalogerop/resource/psixagwgiko'], ['_:2', 'http://dilab77.ionio.gr/swp/kalogerop/vocab#class', 'http://dilab77.ionio.gr/swp/kalogerop/resource/aith1'], ['_:2', 'http://dilab77.ionio.gr/swp/kalogerop/vocab#year', '#:2'], ['_:2', 'http://dilab77.ionio.gr/swp/kalogerop/vocab#dialexh', '#:2017/03/06'], ['_:3', 'http://dilab77.ionio.gr/swp/kalogerop/vocab#Professor', 'http://dilab77.ionio.gr/swp/kalogerop/resource/blamos'], ['_:3', 'http://dilab77.ionio.gr/swp/kalogerop/vocab#course', 'http://dilab77.ionio.gr/swp/kalogerop/resource/tpe'], ['_:3', 'http://dilab77.ionio.gr/swp/kalogerop/vocab#class', 'http://dilab77.ionio.gr/swp/kalogerop/resource/aith2'], ['_:3', 'http://dilab77.ionio.gr/swp/kalogerop/vocab#year', '#:2'], ['_:3', 'http://dilab77.ionio.gr/swp/kalogerop/vocab#dialexh', '#:2017/03/02'], ['_:4', 'http://dilab77.ionio.gr/swp/kalogerop/vocab#Professor', 'http://dilab77.ionio.gr/swp/kalogerop/resource/tsoxou'], ['_:4', 'http://dilab77.ionio.gr/swp/kalogerop/vocab#course', 'http://dilab77.ionio.gr/swp/kalogerop/resource/security'], ['_:4', 'http://dilab77.ionio.gr/swp/kalogerop/vocab#class', 'http://dilab77.ionio.gr/swp/kalogerop/resource/aith3'], ['_:4', 'http://dilab77.ionio.gr/swp/kalogerop/vocab#year', '#:2'], ['_:4', 'http://dilab77.ionio.gr/swp/kalogerop/vocab#dialexh', '#:2017/03/06']]\n"
     ]
    }
   ],
   "source": [
    "import csv\n",
    "\n",
    "eavlist = []\n",
    "\n",
    "with open('URIs.csv','r',newline='') as ifp:\n",
    "    ir = csv.reader(ifp)\n",
    "    headers = next(ir)\n",
    "    \n",
    "    for row in ir:\n",
    "        eavlist.append(row)  \n",
    "\n",
    "print(eavlist)"
   ]
  },
  {
   "cell_type": "markdown",
   "metadata": {},
   "source": [
    "### ΠΑΡΑΓΩΓΗ N-triple"
   ]
  },
  {
   "cell_type": "code",
   "execution_count": 68,
   "metadata": {
    "collapsed": false
   },
   "outputs": [
    {
     "name": "stdout",
     "output_type": "stream",
     "text": [
      "('_:0', '<http://dilab77.ionio.gr/swp/kalogerop/vocab#year>', '\"2\"')\n",
      "('_:0', '<http://dilab77.ionio.gr/swp/kalogerop/vocab#dialexh>', '\"2017-02-28\"')\n",
      "('_:1', '<http://dilab77.ionio.gr/swp/kalogerop/vocab#Professor>', '<http://dilab77.ionio.gr/swp/kalogerop/resource/patelh>')\n",
      "('_:1', '<http://dilab77.ionio.gr/swp/kalogerop/vocab#course>', '<http://dilab77.ionio.gr/swp/kalogerop/resource/epixhrein>')\n",
      "('_:1', '<http://dilab77.ionio.gr/swp/kalogerop/vocab#class>', '<http://dilab77.ionio.gr/swp/kalogerop/resource/aith1>')\n",
      "('_:1', '<http://dilab77.ionio.gr/swp/kalogerop/vocab#year>', '\"2\"')\n",
      "('_:1', '<http://dilab77.ionio.gr/swp/kalogerop/vocab#dialexh>', '\"2017-02-29\"')\n",
      "('_:2', '<http://dilab77.ionio.gr/swp/kalogerop/vocab#Professor>', '<http://dilab77.ionio.gr/swp/kalogerop/resource/komianos>')\n",
      "('_:2', '<http://dilab77.ionio.gr/swp/kalogerop/vocab#course>', '<http://dilab77.ionio.gr/swp/kalogerop/resource/psixagwgiko>')\n",
      "('_:2', '<http://dilab77.ionio.gr/swp/kalogerop/vocab#class>', '<http://dilab77.ionio.gr/swp/kalogerop/resource/aith1>')\n",
      "('_:2', '<http://dilab77.ionio.gr/swp/kalogerop/vocab#year>', '\"2\"')\n",
      "('_:2', '<http://dilab77.ionio.gr/swp/kalogerop/vocab#dialexh>', '\"2017-03-06\"')\n",
      "('_:3', '<http://dilab77.ionio.gr/swp/kalogerop/vocab#Professor>', '<http://dilab77.ionio.gr/swp/kalogerop/resource/blamos>')\n",
      "('_:3', '<http://dilab77.ionio.gr/swp/kalogerop/vocab#course>', '<http://dilab77.ionio.gr/swp/kalogerop/resource/tpe>')\n",
      "('_:3', '<http://dilab77.ionio.gr/swp/kalogerop/vocab#class>', '<http://dilab77.ionio.gr/swp/kalogerop/resource/aith2>')\n",
      "('_:3', '<http://dilab77.ionio.gr/swp/kalogerop/vocab#year>', '\"2\"')\n",
      "('_:3', '<http://dilab77.ionio.gr/swp/kalogerop/vocab#dialexh>', '\"2017-03-02\"')\n",
      "('_:4', '<http://dilab77.ionio.gr/swp/kalogerop/vocab#Professor>', '<http://dilab77.ionio.gr/swp/kalogerop/resource/tsoxou>')\n",
      "('_:4', '<http://dilab77.ionio.gr/swp/kalogerop/vocab#course>', '<http://dilab77.ionio.gr/swp/kalogerop/resource/security>')\n",
      "('_:4', '<http://dilab77.ionio.gr/swp/kalogerop/vocab#class>', '<http://dilab77.ionio.gr/swp/kalogerop/resource/aith3>')\n",
      "('_:4', '<http://dilab77.ionio.gr/swp/kalogerop/vocab#year>', '\"2\"')\n",
      "('_:4', '<http://dilab77.ionio.gr/swp/kalogerop/vocab#dialexh>', '\"2017-03-06\"')\n"
     ]
    }
   ],
   "source": [
    "import re\n",
    "\n",
    "rexp = re.compile(\"/\")\n",
    "\n",
    "def q_f(m):\n",
    "    return '-'.format(ord(m.group(0)))\n",
    "\n",
    "def date(s):\n",
    "    return rexp.sub(q_f,s)\n",
    "\n",
    "visited = set()\n",
    "triples = []\n",
    "for e,a,v in eavlist:\n",
    "     \n",
    "    if a.startswith('http'):\n",
    "        a = '<'+a+'>' \n",
    "    if v.startswith('http') :\n",
    "         v = '<'+v+'>'\n",
    "    \n",
    "    if a == '<http://dilab77.ionio.gr/swp/kalogerop/vocab#year>':\n",
    "        v = '\"'+v[2:]+'\"'\n",
    "       \n",
    "    if a == '<http://dilab77.ionio.gr/swp/kalogerop/vocab#dialexh>':\n",
    "        v = date('\"'+v[2:]+'\"')\n",
    "    #visited.add(v)   \n",
    "    triples.append((e,a,v))\n",
    "    \n",
    "\n",
    "for i in triples:       \n",
    "    print(i)\n",
    "    \n"
   ]
  },
  {
   "cell_type": "markdown",
   "metadata": {},
   "source": []
  },
  {
   "cell_type": "markdown",
   "metadata": {},
   "source": [
    "### ΠΑΡΑΓΩΓΗ Ν-triple της μορφής <your-uri> rdf:type <type-of-this-uri> ."
   ]
  },
  {
   "cell_type": "code",
   "execution_count": 81,
   "metadata": {
    "collapsed": false
   },
   "outputs": [
    {
     "name": "stdout",
     "output_type": "stream",
     "text": [
      "_:0 <http://www.w3.org/1999/02/22-rdf-syntax-ns#type> <http://dilab77.ionio.gr/swp/kalogerop/vocab#Year>\n",
      "_:0 <http://www.w3.org/1999/02/22-rdf-syntax-ns#type> <http://dilab77.ionio.gr/swp/kalogerop/vocab#Dialexh>\n",
      "<http://dilab77.ionio.gr/swp/kalogerop/resource/patelh> <http://www.w3.org/1999/02/22-rdf-syntax-ns#type> <http://dilab77.ionio.gr/swp/kalogerop/vocab#Professor> .\n",
      "<http://dilab77.ionio.gr/swp/kalogerop/resource/epixhrein> <http://www.w3.org/1999/02/22-rdf-syntax-ns#type> <http://dilab77.ionio.gr/swp/kalogerop/vocab#Course> .\n",
      "<http://dilab77.ionio.gr/swp/kalogerop/resource/aith1> <http://www.w3.org/1999/02/22-rdf-syntax-ns#type> <http://dilab77.ionio.gr/swp/kalogerop/vocab#Class> .\n",
      "_:1 <http://www.w3.org/1999/02/22-rdf-syntax-ns#type> <http://dilab77.ionio.gr/swp/kalogerop/vocab#Year>\n",
      "_:1 <http://www.w3.org/1999/02/22-rdf-syntax-ns#type> <http://dilab77.ionio.gr/swp/kalogerop/vocab#Dialexh>\n",
      "<http://dilab77.ionio.gr/swp/kalogerop/resource/komianos> <http://www.w3.org/1999/02/22-rdf-syntax-ns#type> <http://dilab77.ionio.gr/swp/kalogerop/vocab#Professor> .\n",
      "<http://dilab77.ionio.gr/swp/kalogerop/resource/psixagwgiko> <http://www.w3.org/1999/02/22-rdf-syntax-ns#type> <http://dilab77.ionio.gr/swp/kalogerop/vocab#Course> .\n",
      "_:2 <http://www.w3.org/1999/02/22-rdf-syntax-ns#type> <http://dilab77.ionio.gr/swp/kalogerop/vocab#Year>\n",
      "_:2 <http://www.w3.org/1999/02/22-rdf-syntax-ns#type> <http://dilab77.ionio.gr/swp/kalogerop/vocab#Dialexh>\n",
      "<http://dilab77.ionio.gr/swp/kalogerop/resource/blamos> <http://www.w3.org/1999/02/22-rdf-syntax-ns#type> <http://dilab77.ionio.gr/swp/kalogerop/vocab#Professor> .\n",
      "<http://dilab77.ionio.gr/swp/kalogerop/resource/tpe> <http://www.w3.org/1999/02/22-rdf-syntax-ns#type> <http://dilab77.ionio.gr/swp/kalogerop/vocab#Course> .\n",
      "<http://dilab77.ionio.gr/swp/kalogerop/resource/aith2> <http://www.w3.org/1999/02/22-rdf-syntax-ns#type> <http://dilab77.ionio.gr/swp/kalogerop/vocab#Class> .\n",
      "_:3 <http://www.w3.org/1999/02/22-rdf-syntax-ns#type> <http://dilab77.ionio.gr/swp/kalogerop/vocab#Year>\n",
      "_:3 <http://www.w3.org/1999/02/22-rdf-syntax-ns#type> <http://dilab77.ionio.gr/swp/kalogerop/vocab#Dialexh>\n",
      "<http://dilab77.ionio.gr/swp/kalogerop/resource/tsoxou> <http://www.w3.org/1999/02/22-rdf-syntax-ns#type> <http://dilab77.ionio.gr/swp/kalogerop/vocab#Professor> .\n",
      "<http://dilab77.ionio.gr/swp/kalogerop/resource/security> <http://www.w3.org/1999/02/22-rdf-syntax-ns#type> <http://dilab77.ionio.gr/swp/kalogerop/vocab#Course> .\n",
      "<http://dilab77.ionio.gr/swp/kalogerop/resource/aith3> <http://www.w3.org/1999/02/22-rdf-syntax-ns#type> <http://dilab77.ionio.gr/swp/kalogerop/vocab#Class> .\n",
      "_:4 <http://www.w3.org/1999/02/22-rdf-syntax-ns#type> <http://dilab77.ionio.gr/swp/kalogerop/vocab#Year>\n",
      "_:4 <http://www.w3.org/1999/02/22-rdf-syntax-ns#type> <http://dilab77.ionio.gr/swp/kalogerop/vocab#Dialexh>\n"
     ]
    }
   ],
   "source": [
    "visited = set()\n",
    "with open('myN-triple.nt','w') as ofp:\n",
    "    for e,a,v in triples:\n",
    "        r='<http://www.w3.org/1999/02/22-rdf-syntax-ns#type>'\n",
    "        \n",
    "        if e not in visited and a.endswith('year>'):\n",
    "            visited.add(e)\n",
    "            print(e,r,'<http://dilab77.ionio.gr/swp/kalogerop/vocab#Year>')\n",
    "            print(e,r,'<http://dilab77.ionio.gr/swp/kalogerop/vocab#Dialexh>')\n",
    "\n",
    "            ofp.write('{} {} {} . \\n'.format(e,r,'<http://dilab77.ionio.gr/swp/kalogerop/vocab#Year>'))\n",
    "            ofp.write('{} {} {} . \\n'.format(e,r,'<http://dilab77.ionio.gr/swp/kalogerop/vocab#Dialexh>'))\n",
    "            \n",
    "        \n",
    "            \n",
    "        if a=='<http://dilab77.ionio.gr/swp/kalogerop/vocab#Professor>':\n",
    "\n",
    "            if v not in visited:\n",
    "                visited.add(v)\n",
    "           \n",
    "                print('{} {} {} .'.format(v,r,'<http://dilab77.ionio.gr/swp/kalogerop/vocab#Professor>'))\n",
    "                ofp.write('{} {} {} . \\n'.format(v,r,'<http://dilab77.ionio.gr/swp/kalogerop/vocab#Professor>'))  \n",
    "                \n",
    "        if a=='<http://dilab77.ionio.gr/swp/kalogerop/vocab#class>':\n",
    "\n",
    "             if v not in visited:\n",
    "                visited.add(v)\n",
    " \n",
    "                print('{} {} {} .'.format(v,r,'<http://dilab77.ionio.gr/swp/kalogerop/vocab#Class>'))\n",
    "                ofp.write('{} {} {} . \\n'.format(v,r,'<http://dilab77.ionio.gr/swp/kalogerop/vocab#Class>'))\n",
    "        if a=='<http://dilab77.ionio.gr/swp/kalogerop/vocab#course>':\n",
    "            if v not in visited:\n",
    "                visited.add(v)\n",
    "\n",
    "                print('{} {} {} .'.format(v,r,'<http://dilab77.ionio.gr/swp/kalogerop/vocab#Course>'))\n",
    "                ofp.write('{} {} {} . \\n'.format(v,r,'<http://dilab77.ionio.gr/swp/kalogerop/vocab#Course>'))\n",
    "          "
   ]
  },
  {
   "cell_type": "markdown",
   "metadata": {},
   "source": [
    "# VALIDATE N-TRIPLE"
   ]
  },
  {
   "cell_type": "code",
   "execution_count": 82,
   "metadata": {
    "collapsed": false
   },
   "outputs": [],
   "source": [
    "# δώστε την εντολή του παραδείγματος\n",
    "!riot --validate myN-triple.nt"
   ]
  },
  {
   "cell_type": "markdown",
   "metadata": {},
   "source": []
  },
  {
   "cell_type": "code",
   "execution_count": null,
   "metadata": {
    "collapsed": false
   },
   "outputs": [],
   "source": []
  },
  {
   "cell_type": "code",
   "execution_count": 28,
   "metadata": {
    "collapsed": true
   },
   "outputs": [],
   "source": []
  },
  {
   "cell_type": "markdown",
   "metadata": {},
   "source": []
  }
 ],
 "metadata": {
  "kernelspec": {
   "display_name": "Python 3",
   "language": "python",
   "name": "python3"
  },
  "language_info": {
   "codemirror_mode": {
    "name": "ipython",
    "version": 3
   },
   "file_extension": ".py",
   "mimetype": "text/x-python",
   "name": "python",
   "nbconvert_exporter": "python",
   "pygments_lexer": "ipython3",
   "version": "3.4.4"
  }
 },
 "nbformat": 4,
 "nbformat_minor": 0
}
