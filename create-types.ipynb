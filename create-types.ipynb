{
 "cells": [
  {
   "cell_type": "markdown",
   "metadata": {},
   "source": [
    "# Notebook για την παραγωγή των δεδομένων N-Triples (1η εργασία).\n",
    "\n",
    "Χρησιμοποιήστε τον κώδικα από το [notebook του 5ου εργαστηρίου](https://github.com/mixstef/courses/blob/master/pms-swp/schedule4.ipynb) με τις κατάλληλες αλλαγές για να φτιάξετε το αρχείο `schedule-data.nt` της **1ης εργασίας**.\n",
    "\n",
    "Προσθέστε τον κώδικά σας στα επόμενα κελιά."
   ]
  },
  {
   "cell_type": "code",
   "execution_count": 1,
   "metadata": {
    "collapsed": false
   },
   "outputs": [],
   "source": [
    "import csv\n",
    "\n",
    "eavlist = []\n",
    "\n",
    "with open('URIs.csv','r',newline='') as ifp:\n",
    "    ir = csv.reader(ifp)\n",
    "    headers = next(ir)\n",
    "    \n",
    "    for row in ir:\n",
    "        eavlist.append(row)  \n",
    "\n",
    "print(eavlist)"
   ]
  },
 "metadata": {
  "kernelspec": {
   "display_name": "Python 3",
   "language": "python",
   "name": "python3"
  },
  "language_info": {
   "codemirror_mode": {
    "name": "ipython",
    "version": 3
   },
   "file_extension": ".py",
   "mimetype": "text/x-python",
   "name": "python",
   "nbconvert_exporter": "python",
   "pygments_lexer": "ipython3",
   "version": "3.4.4"
  }
 },
 "nbformat": 4,
 "nbformat_minor": 0
}
